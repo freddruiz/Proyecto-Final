{
 "cells": [
  {
   "cell_type": "markdown",
   "id": "cb9c8efc",
   "metadata": {},
   "source": [
    "<div style=\"text-align:  \"> Ciencias de Datos en Python </div> <div style=\"text-align: left\"> Autor: Freddy Ruíz </div>"
   ]
  },
  {
   "cell_type": "markdown",
   "id": "f6cac850",
   "metadata": {},
   "source": [
    "#### Proyecto Final\n",
    "\n",
    "\n",
    "***"
   ]
  },
  {
   "cell_type": "code",
   "execution_count": 3,
   "id": "284dfb55",
   "metadata": {},
   "outputs": [],
   "source": [
    "import numpy as np\n",
    "import pandas as pd\n",
    "import matplotlib.pyplot as plt\n",
    "import seaborn as sns"
   ]
  },
  {
   "cell_type": "code",
   "execution_count": 61,
   "id": "8c41ecff",
   "metadata": {},
   "outputs": [],
   "source": [
    "#Cargamos la data del proyecto\n",
    "housePricing = np.load('.\\proyecto_data\\proyecto_training_data.npy')\n"
   ]
  },
  {
   "cell_type": "markdown",
   "id": "a5cb814e",
   "metadata": {},
   "source": [
    "## Realizamos el slicing de la información"
   ]
  },
  {
   "cell_type": "code",
   "execution_count": 62,
   "id": "fd1fb11f",
   "metadata": {},
   "outputs": [
    {
     "name": "stdout",
     "output_type": "stream",
     "text": [
      "Len Training Set: 1168\n",
      "Validation Set: 291\n"
     ]
    }
   ],
   "source": [
    "columNames = ['SalePrice', 'OverallQual','1stFlrSF','TotRmsAbvGrd','YearBuilt','LotFrontage']\n",
    "# Asignamos el 80% de la información para entrenamiento\n",
    "trainingSet = housePricing[0:int(len(housePricing)*0.8)]\n",
    "# Creamos el data frame para el set de entrenamiento\n",
    "dfTrainingSet = pd.DataFrame(trainingSet, columns=columNames)\n",
    "print(\"Len Training Set: \" + str(len(trainingSet)))\n",
    "\n",
    "\n",
    "#Asignamos el 20% para validación y pruebas\n",
    "validationSet = housePricing[int(len(trainingSet)):len(housePricing)-1]\n",
    "\n",
    "# Creamos el data frame para el set de validación\n",
    "dfValidationSet = pd.DataFrame(validationSet, columns=columNames)\n",
    "print(\"Validation Set: \" +str(len(validationSet)))\n",
    "\n"
   ]
  },
  {
   "cell_type": "markdown",
   "id": "13d0acea",
   "metadata": {},
   "source": [
    "## Realizamos el análisis exploratorio"
   ]
  },
  {
   "cell_type": "code",
   "execution_count": 77,
   "id": "befda3dc",
   "metadata": {},
   "outputs": [
    {
     "name": "stdout",
     "output_type": "stream",
     "text": [
      "Media por variable\n",
      "[180590.27739726027, 6.101027397260274, 1156.3236301369864, 6.4854452054794525, 1971.451198630137, 69.94698544698545]\n",
      "\n",
      "\n",
      "Valor máximo por variable\n",
      "[755000.0, 10.0, 3228.0, 14.0, 2010.0, 313.0]\n",
      "\n",
      "\n",
      "Valor minimo por variable\n",
      "[34900.0, 1.0, 334.0, 2.0, 1875.0, 21.0]\n",
      "\n",
      "\n",
      "Rango por variable\n",
      "[720100.0, 9.0, 2894.0, 12.0, 135.0, 292.0]\n",
      "\n",
      "\n",
      "Desviación estandar por variable\n",
      "[78815.69790179151, 1.3780252276191574, 373.78037448865297, 1.609140708724378, 29.95170660645526, 23.478160779049656]\n"
     ]
    }
   ],
   "source": [
    "#----------INICIALIZAMOS LAS VARIABLES A UTILIZAR------\n",
    "meanVars = []\n",
    "maxVars = []\n",
    "minVars = []\n",
    "stdVars = []\n",
    "rangeVars = []\n",
    "#----------CALCULAMOS LA MEDIA, MÁX,MIN, RANGO Y STD POR VARIABLE----\n",
    "for name in columNames:\n",
    "    meanVars.append(dfTrainingSet[name].mean())   \n",
    "    maxVars.append(dfTrainingSet[name].max())  \n",
    "    minVars.append(dfTrainingSet[name].min())  \n",
    "    stdVars.append(dfTrainingSet[name].std())\n",
    "    rangeVars.append(dfTrainingSet[name].max()-dfTrainingSet[name].min())\n",
    "    \n",
    "#--------------MOSTRAMOS RESULTADOS---------------------------\n",
    "print(\"Media por variable\")\n",
    "print(meanVars) \n",
    "print(\"\\n\")\n",
    "print(\"Valor máximo por variable\")\n",
    "print(maxVars)\n",
    "print(\"\\n\")\n",
    "print(\"Valor minimo por variable\")\n",
    "print(minVars) \n",
    "print(\"\\n\")\n",
    "print(\"Rango por variable\")\n",
    "print(rangeVars)\n",
    "print(\"\\n\")\n",
    "print(\"Desviación estandar por variable\")\n",
    "print(stdVars)\n"
   ]
  },
  {
   "cell_type": "markdown",
   "id": "5d5bcbd9",
   "metadata": {},
   "source": [
    "## Generación de histogramas"
   ]
  },
  {
   "cell_type": "code",
   "execution_count": null,
   "id": "6a07214a",
   "metadata": {},
   "outputs": [],
   "source": []
  }
 ],
 "metadata": {
  "kernelspec": {
   "display_name": "Python 3",
   "language": "python",
   "name": "python3"
  },
  "language_info": {
   "codemirror_mode": {
    "name": "ipython",
    "version": 3
   },
   "file_extension": ".py",
   "mimetype": "text/x-python",
   "name": "python",
   "nbconvert_exporter": "python",
   "pygments_lexer": "ipython3",
   "version": "3.8.8"
  }
 },
 "nbformat": 4,
 "nbformat_minor": 5
}
